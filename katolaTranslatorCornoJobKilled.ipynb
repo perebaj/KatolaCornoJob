{
  "nbformat": 4,
  "nbformat_minor": 0,
  "metadata": {
    "colab": {
      "name": "katolaTranslatorCornoJobKilled.ipynb",
      "provenance": [],
      "collapsed_sections": [],
      "authorship_tag": "ABX9TyNaM9T7843ngYP+/p5gMU2h",
      "include_colab_link": true
    },
    "kernelspec": {
      "name": "python3",
      "display_name": "Python 3"
    },
    "language_info": {
      "name": "python"
    }
  },
  "cells": [
    {
      "cell_type": "markdown",
      "metadata": {
        "id": "view-in-github",
        "colab_type": "text"
      },
      "source": [
        "<a href=\"https://colab.research.google.com/github/perebaj/KatolaCornoJob/blob/main/katolaTranslatorCornoJobKilled.ipynb\" target=\"_parent\"><img src=\"https://colab.research.google.com/assets/colab-badge.svg\" alt=\"Open In Colab\"/></a>"
      ]
    },
    {
      "cell_type": "code",
      "metadata": {
        "id": "L64dbP_AHF8i"
      },
      "source": [
        "import pandas as pd\n",
        "\n"
      ],
      "execution_count": 35,
      "outputs": []
    },
    {
      "cell_type": "code",
      "metadata": {
        "id": "weZX2wgAHXGx"
      },
      "source": [
        "df_en = pd.read_csv(\"/content/Tabela de requisitos 184ed26d8a284816ab7b2ad26917e809.csv\")"
      ],
      "execution_count": 36,
      "outputs": []
    },
    {
      "cell_type": "code",
      "metadata": {
        "colab": {
          "base_uri": "https://localhost:8080/",
          "height": 422
        },
        "id": "QSSdJO7lHfuu",
        "outputId": "a9a2528b-665a-4ae8-e2ba-cf76e4c749a8"
      },
      "source": [
        "df_en.head()"
      ],
      "execution_count": 37,
      "outputs": [
        {
          "output_type": "execute_result",
          "data": {
            "text/html": [
              "<div>\n",
              "<style scoped>\n",
              "    .dataframe tbody tr th:only-of-type {\n",
              "        vertical-align: middle;\n",
              "    }\n",
              "\n",
              "    .dataframe tbody tr th {\n",
              "        vertical-align: top;\n",
              "    }\n",
              "\n",
              "    .dataframe thead th {\n",
              "        text-align: right;\n",
              "    }\n",
              "</style>\n",
              "<table border=\"1\" class=\"dataframe\">\n",
              "  <thead>\n",
              "    <tr style=\"text-align: right;\">\n",
              "      <th></th>\n",
              "      <th>Funcional</th>\n",
              "      <th>Desempenho</th>\n",
              "      <th>Interface</th>\n",
              "      <th>Restrições</th>\n",
              "      <th>Fatores humanos</th>\n",
              "      <th>Confiabilidade</th>\n",
              "      <th>Segurança</th>\n",
              "      <th>Ambiental</th>\n",
              "    </tr>\n",
              "  </thead>\n",
              "  <tbody>\n",
              "    <tr>\n",
              "      <th>0</th>\n",
              "      <td>The science payloads shall not transmit teleme...</td>\n",
              "      <td>The science payload shall have a maximum desce...</td>\n",
              "      <td>The ground station must be portable so the tea...</td>\n",
              "      <td>Total mass of the CanSat (science payloads and...</td>\n",
              "      <td>Teams shall plot each telemetry data field in ...</td>\n",
              "      <td>Configuration states such as if commanded to t...</td>\n",
              "      <td>The container parachute shall not be enclosed ...</td>\n",
              "      <td>NaN</td>\n",
              "    </tr>\n",
              "    <tr>\n",
              "      <th>1</th>\n",
              "      <td>When in simulation mode, the ground station sh...</td>\n",
              "      <td>The descent rate of the CanSat (container and ...</td>\n",
              "      <td>The wing of the science payload shall be color...</td>\n",
              "      <td>CanSat shall fit in a cylindrical envelope of ...</td>\n",
              "      <td>Each team shall develop their own ground station.</td>\n",
              "      <td>The container flight software shall support si...</td>\n",
              "      <td>Mechanisms that use heat (e.g., nichrome wire)...</td>\n",
              "      <td>NaN</td>\n",
              "    </tr>\n",
              "    <tr>\n",
              "      <th>2</th>\n",
              "      <td>The ground station shall include one laptop co...</td>\n",
              "      <td>All structures shall be built to survive 15 Gs...</td>\n",
              "      <td>The container shall include electronics to rec...</td>\n",
              "      <td>The container shall not have any sharp edges ...</td>\n",
              "      <td>NaN</td>\n",
              "      <td>The container must maintain mission time throu...</td>\n",
              "      <td>The container shall not have any sharp edges t...</td>\n",
              "      <td>NaN</td>\n",
              "    </tr>\n",
              "    <tr>\n",
              "      <th>3</th>\n",
              "      <td>The science payload shall measure altitude usi...</td>\n",
              "      <td>All structures shall be built to survive 30 Gs...</td>\n",
              "      <td>The ground station shall command the Cansat to...</td>\n",
              "      <td>The container shall be a fluorescent color; pi...</td>\n",
              "      <td>NaN</td>\n",
              "      <td>The container shall include a GPS sensor to tr...</td>\n",
              "      <td>The Cansat must operate during the environment...</td>\n",
              "      <td>NaN</td>\n",
              "    </tr>\n",
              "    <tr>\n",
              "      <th>4</th>\n",
              "      <td>The science payload shall measure air temperat...</td>\n",
              "      <td>Telemetry shall include mission time with one ...</td>\n",
              "      <td>The ground station shall generate csv files of...</td>\n",
              "      <td>The container shall be solid and fully enclose...</td>\n",
              "      <td>NaN</td>\n",
              "      <td>NaN</td>\n",
              "      <td>The container and science payloads must includ...</td>\n",
              "      <td>NaN</td>\n",
              "    </tr>\n",
              "  </tbody>\n",
              "</table>\n",
              "</div>"
            ],
            "text/plain": [
              "                                           Funcional  ... Ambiental\n",
              "0  The science payloads shall not transmit teleme...  ...       NaN\n",
              "1  When in simulation mode, the ground station sh...  ...       NaN\n",
              "2  The ground station shall include one laptop co...  ...       NaN\n",
              "3  The science payload shall measure altitude usi...  ...       NaN\n",
              "4  The science payload shall measure air temperat...  ...       NaN\n",
              "\n",
              "[5 rows x 8 columns]"
            ]
          },
          "metadata": {
            "tags": []
          },
          "execution_count": 37
        }
      ]
    },
    {
      "cell_type": "code",
      "metadata": {
        "colab": {
          "base_uri": "https://localhost:8080/"
        },
        "id": "_twxi_flIeXT",
        "outputId": "94f2a9d6-0303-483b-9975-53edf1ad2127"
      },
      "source": [
        "from google_trans_new import google_translator\n",
        "translator = google_translator()  \n",
        "translate_text = translator.translate('Hello!', lang_tgt='pt')  \n",
        "print(translate_text)"
      ],
      "execution_count": 34,
      "outputs": [
        {
          "output_type": "stream",
          "text": [
            "Olá! \n"
          ],
          "name": "stdout"
        }
      ]
    },
    {
      "cell_type": "code",
      "metadata": {
        "colab": {
          "base_uri": "https://localhost:8080/"
        },
        "id": "3Yv1Ns05K515",
        "outputId": "d5a47b32-57fb-499f-b1ee-f57676914eba"
      },
      "source": [
        "!pip install googletrans==3.1.0a0"
      ],
      "execution_count": 29,
      "outputs": [
        {
          "output_type": "stream",
          "text": [
            "Collecting google_trans_new\n",
            "  Downloading https://files.pythonhosted.org/packages/f9/7b/9f136106dc5824dc98185c97991d3cd9b53e70a197154dd49f7b899128f6/google_trans_new-1.1.9-py3-none-any.whl\n",
            "Installing collected packages: google-trans-new\n",
            "Successfully installed google-trans-new-1.1.9\n"
          ],
          "name": "stdout"
        }
      ]
    },
    {
      "cell_type": "code",
      "metadata": {
        "colab": {
          "base_uri": "https://localhost:8080/"
        },
        "id": "GJi0ZoxPLPnt",
        "outputId": "5e8c704c-c1bf-416b-f441-75221afb941b"
      },
      "source": [
        "translator = google_translator()  \n",
        "translate_text = translator.translate('Hello!', lang_tgt='pt')  \n",
        "translations = {}\n",
        "for column in df_en.columns:\n",
        "    # unique elements of the column\n",
        "    unique_elements = df_en[column].unique()\n",
        "    for element in unique_elements:\n",
        "        # add translation to the dictionary\n",
        "        translations[element] = translator.translate(element, lang_tgt='pt')\n",
        "    \n",
        "print(translations)"
      ],
      "execution_count": 46,
      "outputs": [
        {
          "output_type": "stream",
          "text": [
            "{'The science payloads shall not transmit telemetry during the launch, and the\\ncontainer shall command the science payloads to begin telemetry\\ntransmission upon release from the container.': 'As cargas de ciências não transmitirão telemetria durante o lançamento, e  O recipiente deve comandar as cargas de ciências para iniciar a telemetria  transmissão após a liberação do recipiente. ', 'When in simulation mode, the ground station shall transmit pressure data\\nfrom a csv file provided by the competition at a 1 Hz interval to the\\ncontainer.': 'Quando no modo de simulação, a estação de solo deve transmitir dados de pressão  de um arquivo CSV fornecido pela concorrência em um intervalo de 1 Hz para o  recipiente. ', 'The ground station shall include one laptop computer with a minimum of two\\nhours of battery operation, XBEE radio and a hand-held antenna.': 'A estação de terra deve incluir um computador portátil com um mínimo de dois  horas de operação de bateria, rádio XBee e uma antena de mão. ', 'The science payload shall measure altitude using an air pressure sensor. ': 'A carga útil da ciência deve medir a altitude usando um sensor de pressão de ar. ', 'The science payload shall measure air temperature.': 'A carga útil da ciência medirá a temperatura do ar. ', 'The science payload shall measure rotation rate as it descends.': 'A carga útil da ciência medirá a taxa de rotação à medida que desce. ', 'The science payload shall transmit all sensor data once per second': 'A carga útil da ciência transmitirá todos os dados do sensor uma vez por segundo ', 'The science payload telemetry shall be transmitted to the container only.': 'A Ciência Payload Telemetria deve ser transmitida apenas ao recipiente. ', 'All telemetry shall be displayed in real time during descent on the ground\\nstation.': 'Toda telemetria deve ser exibida em tempo real durante a descida no chão  estação. ', 'The container shall include electronics and mechanisms to release the\\nscience payloads.': 'O recipiente deve incluir eletrônicos e mecanismos para liberar o  Cargas de Ciência. ', 'The container flight software shall only enter simulation mode after it\\nreceives the SIMULATION ENABLE and SIMULATION ACTIVATE\\ncommands.': 'O software de voo do contêiner só deve entrar no modo de simulação após  recebe a simulação ativar e simulação ativar  comandos. ', 'An easily accessible battery compartment must be included allowing\\nbatteries to be installed or removed in less than a minute and not require a\\ntotal disassembly of the CanSat.': 'Um compartimento de bateria facilmente acessível deve ser incluído permitindo  baterias a serem instaladas ou removidas em menos de um minuto e não requerem um  total desmontagem do cansat. ', nan: 'macho ', 'The science payload shall have a maximum descent rate of 20 m/s': 'A carga útil da ciência terá uma taxa máxima de descida de 20 m / s ', 'The descent rate of the CanSat (container and science payload) shall be 15\\nmeters/second +/- 5m/s': 'A taxa de descida do cansat (recipiente e carga útil da ciência) será 15  metros / segundo +/- 5m / s ', 'All structures shall be built to survive 15 Gs of launch acceleration.': 'Todas as estruturas devem ser construídas para sobreviver a 15 gs de aceleração de lançamentos. ', 'All structures shall be built to survive 30 Gs of shock.': 'Todas as estruturas devem ser construídas para sobreviver 30 gs de choque. ', 'Telemetry shall include mission time with one second or better resolution.\\nMission time shall be maintained in the event of a processor reset during the\\nlaunch and mission.': 'A telemetria deve incluir a hora da missão com uma segunda ou melhor resolução.  O horário da missão será mantido no caso de uma reinicialização do processador durante o  lançamento e missão. ', 'All mechanisms shall be capable of maintaining their configuration or states\\nunder all forces.': 'Todos os mecanismos devem ser capazes de manter sua configuração ou estados  sob todas as forças. ', 'The audio beacon must have a minimum sound pressure level of 92 dB,\\nunobstructed.': 'O farol de áudio deve ter um nível mínimo de pressão sonora de 92 dB,  desobstruído. ', 'XBEE radios shall be used for telemetry. 2.4 GHz Series radios are\\nallowed. 900 MHz XBEE radios are also allowed.': 'Os rádios XBee devem ser usados para telemetria. Rádios da série 2.4 GHz são  permitido. Rádios XBee de 900 MHz também são permitidos. ', 'The flight software shall maintain a count of packets transmitted, which shall\\nincrement with each packet transmission throughout the mission. The value\\nshall be maintained through processor resets.': 'O software de voo deve manter uma contagem de pacotes transmitidos, que  incremento com cada transmissão de pacotes em toda a missão. O valor que  deve ser mantido através de redefinições do processador. ', 'The Cansat shall operate for a minimum of two hours when integrated into\\nthe rocket.': 'O CANSAT deve operar por um mínimo de duas horas quando integrado  o foguete. ', 'The ground station must be portable so the team can be positioned at the\\nground station operation site along the flight line. AC power will not be\\navailable at the ground station operation site.\\n The ground station software shall be able to command the container to\\noperate in simulation mode by sending two commands, SIMULATION\\nENABLE and SIMULATION ACTIVATE.': 'A estação de terra deve ser portátil para que a equipe possa ser posicionada no  local de operação do estação de terra ao longo da linha de vôo. A energia CA não será  disponível no local de operação da estação de terra.  O software da estação de terra deve ser capaz de comandar o contêiner para  Opere no modo de simulação enviando dois comandos, simulação  Ativar e simulação ativar. ', 'The wing of the science payload shall be colored fluorescent orange, pink or\\ngreen.': 'A ala da carga útil da ciência deve ser colorida laranja fluorescente, rosa ou  verde. ', 'The container shall include electronics to receive sensor payload telemetry': 'O recipiente deve incluir eletrônica para receber telemetria de carga útil do sensor ', 'The ground station shall command the Cansat to start transmitting telemetry\\nprior to launch.': 'A estação de terra deve comandar o CANSAT para começar a transmitir telemetria  antes do lançamento. ', 'The ground station shall generate csv files of all sensor data as specified in\\nthe Telemetry Requirements section.': 'A estação de terra deve gerar arquivos CSV de todos os dados do sensor, conforme especificado em  a seção Requisitos de telemetria. ', 'The container shall stop transmitting telemetry when it land': 'O recipiente deve parar de transmitir telemetria quando aterrissar ', 'The container shall transmit its telemetry and the payload telemetry received\\nonce per second in the format described in the Telemetry Requirements\\nsection.': 'O recipiente deve transmitir sua telemetria e a telemetria de carga útil recebida  uma vez por segundo no formato descrito nos requisitos de telemetria  seção. ', 'The container shall measure its battery voltage.': 'O recipiente deve medir a tensão da bateria. ', 'The container must include a power indicator such as an LED or sound\\ngenerating device that can be easily seen or heard without disassembling\\nthe cansat and in the stowed state.': 'O recipiente deve incluir um indicador de energia, como um LED ou Som  dispositivo gerador que pode ser facilmente visto ou ouvido sem desmontar  o cansat e no estado guardado. ', 'The container shall include a pressure sensor to measure altitude. ': 'O recipiente deve incluir um sensor de pressão para medir a altitude. ', 'Total mass of the CanSat (science payloads and container) shall be 600\\ngrams +/- 10 grams.': 'Massa total da cansat (carga de ciência e contêiner) deve ser 600  gramas +/- 10 gramas. ', 'CanSat shall fit in a cylindrical envelope of 125 mm diameter x 400 mm\\nlength. Tolerances are to be included to facilitate container deployment from\\nthe rocket fairing.': 'Cansat deve caber em um envelope cilíndrico de 125 mm de diâmetro x 400 mm  comprimento. Tolerâncias devem ser incluídas para facilitar a implantação de contêineres  a carenagem de foguetes. ', ' The container shall not have any sharp edges to cause it to get stuck in the\\nrocket payload section which is made of cardboard.': 'O contêiner não terá nenhuma borda afiada para que ele fique preso no  Seção de carga de foguete que é feita de papelão. ', 'The container shall be a fluorescent color; pink, red or orange.': 'O recipiente será uma cor fluorescente; rosa, vermelho ou laranja. ', 'The container shall be solid and fully enclose the science payloads. Small\\nholes to allow access to turn on the science payloads is allowed. The end of\\nthe container where the payload deploys may be open.': 'O contêiner deve ser sólido e incluir totalmente as cargas de Ciência. Pequeno  Buracos para permitir que o acesso a ligação das cargas de ciência seja permitido. O fim de  o contêiner onde a carga útil pode ser aberta. ', 'All telemetry shall be displayed in engineering units (meters, meters/sec,\\nCelsius, etc.)': 'Toda telemetria deve ser exibida em unidades de engenharia (medidores, metros / seg,  Celsius, etc.) ', 'The rocket airframe shall not be used to restrain any deployable parts of the\\nCanSat.': 'O Foguete Airframe não deve ser usado para restringir quaisquer partes implementáveis do  CANSAT. ', 'The Parachutes shall be fluorescent Pink or Orange': 'Os pára-quedas devem ser rosa ou laranja fluorescente ', 'All electronics shall be hard mounted using proper mounts such as\\nstandoffs, screws, or high performance adhesives\\n': 'Todas as eletrônicas devem ser montadas duras usando montagens adequadas, como  Stontoffs, parafusos ou adesivos de alto desempenho ', 'Mechanisms shall not use pyrotechnics or chemicals.': 'Os mecanismos não devem usar pirotecnia ou produtos químicos. ', 'Battery source may be alkaline, Ni-Cad, Ni-MH or Lithium. Lithium polymer\\nbatteries are not allowed. Lithium cells must be manufactured with a metal\\npackage similar to 18650 cells. Coin cells are allowed.': 'A fonte da bateria pode ser alcalina, ni-CAD, NI-MH ou lítio. Polímero de lítio  Baterias não são permitidas. As células de lítio devem ser fabricadas com um metal  Pacote semelhante a 18650 células. As células de moedas são permitidas. ', 'Both the container and payloads shall be labeled with team contact\\ninformation including email address.': 'Tanto o recipiente quanto as cargas de carga devem ser rotulados com o contato da equipe  informações, incluindo endereço de e-mail. ', 'Cost of the CanSat shall be under $1000. Ground support and analysis\\ntools are not included in the cost': 'O custo do CANSAT será inferior a US $ 1000. Suporte à terra e análise  ferramentas não estão incluídas no custo ', 'XBEE radios shall have their NETID/PANID set to their team number': 'Os rádios XBee devem ter seu conjunto NetID / Panid para o seu número de equipe ', 'XBEE radios shall not use broadcast mode.': 'Os rádios XBee não devem usar o modo de transmissão. ', 'The container shall have its time set to UTC time to within one second\\nbefore launch.': 'O recipiente deve ter seu tempo definido como tempo UTC para dentro de um segundo  antes do lançamento. ', 'The science payload shall have their NETID/PANID set to their team\\nnumber plus five. If team number is 1000, sensor payload NETID is 1005.': 'A carga útil da ciência deve ter seu NetID / Panid definido para sua equipe  número mais cinco. Se o número da equipe for 1000, o Sensor Payload NetID é 1005. ', 'Teams shall plot each telemetry data field in real time during flight.': 'As equipes devem traçar cada campo de dados de telemetria em tempo real durante o vôo. ', 'Each team shall develop their own ground station.': 'Cada equipe deve desenvolver sua própria estação de terra. ', 'Configuration states such as if commanded to transmit telemetry shall be\\nmaintained in the event of a processor reset during launch and mission.': 'Estados de configuração, como se comandado para transmitir telemetria  mantido no caso de uma reinicialização do processador durante o lançamento e a missão. ', 'The container flight software shall support simulated flight mode where the\\nground station sends air pressure values at a one second interval using a\\nprovided flight profile csv file.': 'O software de voo do contêiner deve suportar o modo de voo simulado, onde o  estação terra envia valores de pressão de ar em um segundo intervalo usando um  Fornecido perfil de vôo CSV arquivo. ', 'The container must maintain mission time throughout the whole mission\\neven with processor resets or momentary power loss.': 'O recipiente deve manter o tempo da missão em toda a missão  Mesmo com o processador redefinições ou perda momentânea de energia. ', 'The container shall include a GPS sensor to track its position.': 'O recipiente deve incluir um sensor GPS para rastrear sua posição. ', 'The container parachute shall not be enclosed in the container structure. It\\nshall be external and attached to the container so that it opens immediately\\nwhen deployed from the rocket.': 'O pára-quedas do contêiner não deve ser incluído na estrutura do recipiente. Isto  deve ser externo e anexado ao recipiente para que ele seja aberto imediatamente  quando implantado do foguete. ', 'Mechanisms that use heat (e.g., nichrome wire) shall not be exposed to the\\noutside environment to reduce potential risk of setting vegetation on fire.': 'Mecanismos que usam calor (por exemplo, fio nicrome) não devem ser expostos ao  ambiente externo para reduzir o risco potencial de estabelecer vegetação em chamas. ', 'The container shall not have any sharp edges to cause it to get stuck in the\\nrocket payload section which is made of cardboard.': 'O contêiner não terá nenhuma borda afiada para que ele fique preso no  Seção de carga de foguete que é feita de papelão. ', 'The Cansat must operate during the environmental tests laid out in Section\\n3.5.': 'O CANSAT deve operar durante os testes ambientais estabelecidos na seção  3.5. ', 'The container and science payloads must include an easily accessible\\npower switch that can be accessed without disassembling the cansat and\\nscience payloads and in the stowed configuration.': 'As cargas de contêiner e ciência devem incluir um  interruptor de energia que pode ser acessado sem desmontar o cansat e  Cargas de Ciência e na configuração armazenada. ', 'Spring contacts shall not be used for making electrical connections to\\nbatteries. Shock forces can cause momentary disconnects.': 'Os contatos da mola não devem ser usados para fazer conexões elétricas  baterias. Forças de choque podem causar desconexões momentâneas. ', nan: 'macho '}\n"
          ],
          "name": "stdout"
        }
      ]
    },
    {
      "cell_type": "code",
      "metadata": {
        "colab": {
          "base_uri": "https://localhost:8080/",
          "height": 743
        },
        "id": "0bh_78DbMcli",
        "outputId": "42a10349-d85d-4b3d-bf9f-0c0c2977627a"
      },
      "source": [
        "df_en.replace(translations, inplace = True)\n",
        "\n",
        "# check translation\n",
        "df_en.head(10)"
      ],
      "execution_count": 48,
      "outputs": [
        {
          "output_type": "execute_result",
          "data": {
            "text/html": [
              "<div>\n",
              "<style scoped>\n",
              "    .dataframe tbody tr th:only-of-type {\n",
              "        vertical-align: middle;\n",
              "    }\n",
              "\n",
              "    .dataframe tbody tr th {\n",
              "        vertical-align: top;\n",
              "    }\n",
              "\n",
              "    .dataframe thead th {\n",
              "        text-align: right;\n",
              "    }\n",
              "</style>\n",
              "<table border=\"1\" class=\"dataframe\">\n",
              "  <thead>\n",
              "    <tr style=\"text-align: right;\">\n",
              "      <th></th>\n",
              "      <th>Funcional</th>\n",
              "      <th>Desempenho</th>\n",
              "      <th>Interface</th>\n",
              "      <th>Restrições</th>\n",
              "      <th>Fatores humanos</th>\n",
              "      <th>Confiabilidade</th>\n",
              "      <th>Segurança</th>\n",
              "      <th>Ambiental</th>\n",
              "    </tr>\n",
              "  </thead>\n",
              "  <tbody>\n",
              "    <tr>\n",
              "      <th>0</th>\n",
              "      <td>As cargas de ciências não transmitirão telemet...</td>\n",
              "      <td>A carga útil da ciência terá uma taxa máxima d...</td>\n",
              "      <td>A estação de terra deve ser portátil para que ...</td>\n",
              "      <td>Massa total da cansat (carga de ciência e cont...</td>\n",
              "      <td>As equipes devem traçar cada campo de dados de...</td>\n",
              "      <td>Estados de configuração, como se comandado par...</td>\n",
              "      <td>O pára-quedas do contêiner não deve ser incluí...</td>\n",
              "      <td>macho</td>\n",
              "    </tr>\n",
              "    <tr>\n",
              "      <th>1</th>\n",
              "      <td>Quando no modo de simulação, a estação de solo...</td>\n",
              "      <td>A taxa de descida do cansat (recipiente e carg...</td>\n",
              "      <td>A ala da carga útil da ciência deve ser colori...</td>\n",
              "      <td>Cansat deve caber em um envelope cilíndrico de...</td>\n",
              "      <td>Cada equipe deve desenvolver sua própria estaç...</td>\n",
              "      <td>O software de voo do contêiner deve suportar o...</td>\n",
              "      <td>Mecanismos que usam calor (por exemplo, fio ni...</td>\n",
              "      <td>macho</td>\n",
              "    </tr>\n",
              "    <tr>\n",
              "      <th>2</th>\n",
              "      <td>A estação de terra deve incluir um computador ...</td>\n",
              "      <td>Todas as estruturas devem ser construídas para...</td>\n",
              "      <td>O recipiente deve incluir eletrônica para rece...</td>\n",
              "      <td>O contêiner não terá nenhuma borda afiada para...</td>\n",
              "      <td>macho</td>\n",
              "      <td>O recipiente deve manter o tempo da missão em ...</td>\n",
              "      <td>O contêiner não terá nenhuma borda afiada para...</td>\n",
              "      <td>macho</td>\n",
              "    </tr>\n",
              "    <tr>\n",
              "      <th>3</th>\n",
              "      <td>A carga útil da ciência deve medir a altitude ...</td>\n",
              "      <td>Todas as estruturas devem ser construídas para...</td>\n",
              "      <td>A estação de terra deve comandar o CANSAT para...</td>\n",
              "      <td>O recipiente será uma cor fluorescente; rosa, ...</td>\n",
              "      <td>macho</td>\n",
              "      <td>O recipiente deve incluir um sensor GPS para r...</td>\n",
              "      <td>O CANSAT deve operar durante os testes ambient...</td>\n",
              "      <td>macho</td>\n",
              "    </tr>\n",
              "    <tr>\n",
              "      <th>4</th>\n",
              "      <td>A carga útil da ciência medirá a temperatura d...</td>\n",
              "      <td>A telemetria deve incluir a hora da missão com...</td>\n",
              "      <td>A estação de terra deve gerar arquivos CSV de ...</td>\n",
              "      <td>O contêiner deve ser sólido e incluir totalmen...</td>\n",
              "      <td>macho</td>\n",
              "      <td>macho</td>\n",
              "      <td>As cargas de contêiner e ciência devem incluir...</td>\n",
              "      <td>macho</td>\n",
              "    </tr>\n",
              "    <tr>\n",
              "      <th>5</th>\n",
              "      <td>A carga útil da ciência medirá a taxa de rotaç...</td>\n",
              "      <td>Todos os mecanismos devem ser capazes de mante...</td>\n",
              "      <td>O recipiente deve parar de transmitir telemetr...</td>\n",
              "      <td>Toda telemetria deve ser exibida em unidades d...</td>\n",
              "      <td>macho</td>\n",
              "      <td>macho</td>\n",
              "      <td>Os contatos da mola não devem ser usados para ...</td>\n",
              "      <td>macho</td>\n",
              "    </tr>\n",
              "    <tr>\n",
              "      <th>6</th>\n",
              "      <td>A carga útil da ciência transmitirá todos os d...</td>\n",
              "      <td>O farol de áudio deve ter um nível mínimo de p...</td>\n",
              "      <td>O recipiente deve transmitir sua telemetria e ...</td>\n",
              "      <td>O Foguete Airframe não deve ser usado para res...</td>\n",
              "      <td>macho</td>\n",
              "      <td>macho</td>\n",
              "      <td>macho</td>\n",
              "      <td>macho</td>\n",
              "    </tr>\n",
              "    <tr>\n",
              "      <th>7</th>\n",
              "      <td>A Ciência Payload Telemetria deve ser transmit...</td>\n",
              "      <td>Os rádios XBee devem ser usados para telemetri...</td>\n",
              "      <td>O recipiente deve medir a tensão da bateria.</td>\n",
              "      <td>Os pára-quedas devem ser rosa ou laranja fluor...</td>\n",
              "      <td>macho</td>\n",
              "      <td>macho</td>\n",
              "      <td>macho</td>\n",
              "      <td>macho</td>\n",
              "    </tr>\n",
              "    <tr>\n",
              "      <th>8</th>\n",
              "      <td>Toda telemetria deve ser exibida em tempo real...</td>\n",
              "      <td>O software de voo deve manter uma contagem de ...</td>\n",
              "      <td>O recipiente deve incluir um indicador de ener...</td>\n",
              "      <td>Todas as eletrônicas devem ser montadas duras ...</td>\n",
              "      <td>macho</td>\n",
              "      <td>macho</td>\n",
              "      <td>macho</td>\n",
              "      <td>macho</td>\n",
              "    </tr>\n",
              "    <tr>\n",
              "      <th>9</th>\n",
              "      <td>O recipiente deve incluir eletrônicos e mecani...</td>\n",
              "      <td>macho</td>\n",
              "      <td>O recipiente deve incluir um sensor de pressão...</td>\n",
              "      <td>Os mecanismos não devem usar pirotecnia ou pro...</td>\n",
              "      <td>macho</td>\n",
              "      <td>macho</td>\n",
              "      <td>macho</td>\n",
              "      <td>macho</td>\n",
              "    </tr>\n",
              "  </tbody>\n",
              "</table>\n",
              "</div>"
            ],
            "text/plain": [
              "                                           Funcional  ... Ambiental\n",
              "0  As cargas de ciências não transmitirão telemet...  ...    macho \n",
              "1  Quando no modo de simulação, a estação de solo...  ...    macho \n",
              "2  A estação de terra deve incluir um computador ...  ...    macho \n",
              "3  A carga útil da ciência deve medir a altitude ...  ...    macho \n",
              "4  A carga útil da ciência medirá a temperatura d...  ...    macho \n",
              "5  A carga útil da ciência medirá a taxa de rotaç...  ...    macho \n",
              "6  A carga útil da ciência transmitirá todos os d...  ...    macho \n",
              "7  A Ciência Payload Telemetria deve ser transmit...  ...    macho \n",
              "8  Toda telemetria deve ser exibida em tempo real...  ...    macho \n",
              "9  O recipiente deve incluir eletrônicos e mecani...  ...    macho \n",
              "\n",
              "[10 rows x 8 columns]"
            ]
          },
          "metadata": {
            "tags": []
          },
          "execution_count": 48
        }
      ]
    },
    {
      "cell_type": "code",
      "metadata": {
        "id": "2bvMc-GcOMe7"
      },
      "source": [
        "df_en.to_csv(\"hue_kato.csv\")"
      ],
      "execution_count": 49,
      "outputs": []
    },
    {
      "cell_type": "code",
      "metadata": {
        "id": "TFSQzszwN8rf"
      },
      "source": [
        ""
      ],
      "execution_count": null,
      "outputs": []
    }
  ]
}